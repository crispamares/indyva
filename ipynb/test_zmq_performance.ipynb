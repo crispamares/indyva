{
 "metadata": {
  "name": ""
 },
 "nbformat": 3,
 "nbformat_minor": 0,
 "worksheets": [
  {
   "cells": [
    {
     "cell_type": "markdown",
     "metadata": {},
     "source": [
      "# Medir alternativas de filtrado de mensajes #\n",
      "\n",
      "### CONCLUSION: Hacer filtrados antes de send_multipart. En python ###\n",
      "\n",
      "- Lo m\u00e1s flexible es mandar una query Mongo como argumento del subscribe\n",
      "- Quiz\u00e1 lo m\u00e1s f\u00e1cil es definir un conjunto de m\u00e9todos subscribe para los casos m\u00e1s comunes.\n",
      "\n",
      "Necesitamos:\n",
      "\n",
      "- Definir bien la forma de los Deltas...\n",
      "- O hacer que los filtros se adapten al tipo de delta que espere el usuario"
     ]
    },
    {
     "cell_type": "code",
     "collapsed": true,
     "input": [
      "import zmq\n"
     ],
     "language": "python",
     "metadata": {},
     "outputs": [],
     "prompt_number": 1
    },
    {
     "cell_type": "code",
     "collapsed": false,
     "input": [
      "ctx = zmq.Context()"
     ],
     "language": "python",
     "metadata": {},
     "outputs": [],
     "prompt_number": 2
    },
    {
     "cell_type": "raw",
     "metadata": {},
     "source": [
      "ctx = zmq.Context()\n",
      "ss = ctx.socket(zmq.SUB)\n",
      "ss.connect('tcp://127.0.0.1:4444')\n",
      "ss.setsockopt(zmq.SUBSCRIBE,'13;')\n",
      "\n",
      "while True:\n",
      "    print ss.recv_multipart()"
     ]
    },
    {
     "cell_type": "raw",
     "metadata": {},
     "source": [
      "for topic in topics:\n",
      "    ss.setsockopt(zmq.SUBSCRIBE,topic)"
     ]
    },
    {
     "cell_type": "code",
     "collapsed": false,
     "input": [
      "s = ctx.socket(zmq.PUB)\n",
      "s.set_hwm(0)\n",
      "s.bind('tcp://127.0.0.1:4444')\n",
      "\n",
      "#ss = ctx.socket(zmq.SUB)\n",
      "#ss.connect('tcp://127.0.0.1:4444')\n",
      "#ss.setsockopt(zmq.SUBSCRIBE,'1')\n",
      "#ss.setsockopt(zmq.SUBSCRIBE,'')\n",
      "\n",
      "topics = map(lambda x: str(x)+';', range(100000))"
     ],
     "language": "python",
     "metadata": {},
     "outputs": [],
     "prompt_number": 3
    },
    {
     "cell_type": "code",
     "collapsed": false,
     "input": [
      "def send(topics):\n",
      "    msg_body = 'This is the message'\n",
      "    for topic in topics:\n",
      "        s.send_multipart([topic, msg_body])\n"
     ],
     "language": "python",
     "metadata": {},
     "outputs": [],
     "prompt_number": 8
    },
    {
     "cell_type": "code",
     "collapsed": false,
     "input": [
      "%timeit send(topics)\n"
     ],
     "language": "python",
     "metadata": {},
     "outputs": [
      {
       "output_type": "stream",
       "stream": "stdout",
       "text": [
        "1 loops, best of 3: 932 ms per loop\n"
       ]
      }
     ],
     "prompt_number": 17
    },
    {
     "cell_type": "code",
     "collapsed": false,
     "input": [
      "a = dict(zip(topics, topics))\n",
      "\n"
     ],
     "language": "python",
     "metadata": {},
     "outputs": [],
     "prompt_number": 10
    },
    {
     "cell_type": "markdown",
     "metadata": {},
     "source": [
      "**Hacer los deltas con dicts!!!**\n",
      "Es much\u00edsimos!!! m\u00e1s r\u00e1pido que en una lista\n",
      "\n",
      "**Much\u00edsimo m\u00e1s r\u00e1pido el marshaling que muchos send_multipart**\n",
      "Lo que lleva a hacer filtros en python y no utilizar los de ZeroMQ para performance. \n",
      "\n",
      "Adem\u00e1s penalizan mucho las llamadas a funciones python\n"
     ]
    },
    {
     "cell_type": "code",
     "collapsed": false,
     "input": [
      "%timeit '2165;' in a\n"
     ],
     "language": "python",
     "metadata": {},
     "outputs": [
      {
       "output_type": "stream",
       "stream": "stdout",
       "text": [
        "10000000 loops, best of 3: 59.1 ns per loop\n"
       ]
      }
     ],
     "prompt_number": 25
    },
    {
     "cell_type": "code",
     "collapsed": false,
     "input": [
      "%timeit '2165;' in topics"
     ],
     "language": "python",
     "metadata": {},
     "outputs": [
      {
       "output_type": "stream",
       "stream": "stdout",
       "text": [
        "10000 loops, best of 3: 28.6 \u00b5s per loop\n"
       ]
      }
     ],
     "prompt_number": 14
    },
    {
     "cell_type": "code",
     "collapsed": false,
     "input": [
      "%%timeit\n",
      "msg = zmq.utils.jsonapi.dumps(['This is the message']*100000)\n",
      "zmq.utils.jsonapi.loads(msg)"
     ],
     "language": "python",
     "metadata": {},
     "outputs": [
      {
       "output_type": "stream",
       "stream": "stdout",
       "text": [
        "10 loops, best of 3: 29.2 ms per loop\n"
       ]
      }
     ],
     "prompt_number": 24
    },
    {
     "cell_type": "code",
     "collapsed": false,
     "input": [
      "def p(v):\n",
      "    return v\n",
      "%timeit for t in topics: p(t)"
     ],
     "language": "python",
     "metadata": {},
     "outputs": [
      {
       "output_type": "stream",
       "stream": "stdout",
       "text": [
        "100 loops, best of 3: 10.9 ms per loop\n"
       ]
      }
     ],
     "prompt_number": 27
    },
    {
     "cell_type": "code",
     "collapsed": false,
     "input": [
      "%timeit map(p, topics)"
     ],
     "language": "python",
     "metadata": {},
     "outputs": [
      {
       "output_type": "stream",
       "stream": "stdout",
       "text": [
        "100 loops, best of 3: 11.4 ms per loop\n"
       ]
      }
     ],
     "prompt_number": 32
    },
    {
     "cell_type": "code",
     "collapsed": false,
     "input": [
      "from multiprocessing import Pool\n",
      "pool = Pool(2)\n",
      "%timeit pool.map(p, topics)"
     ],
     "language": "python",
     "metadata": {},
     "outputs": [
      {
       "output_type": "stream",
       "stream": "stdout",
       "text": [
        "10 loops, best of 3: 112 ms per loop\n"
       ]
      }
     ],
     "prompt_number": 36
    },
    {
     "cell_type": "code",
     "collapsed": false,
     "input": [],
     "language": "python",
     "metadata": {},
     "outputs": []
    }
   ],
   "metadata": {}
  }
 ]
}